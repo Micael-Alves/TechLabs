{
  "nbformat": 4,
  "nbformat_minor": 0,
  "metadata": {
    "kernelspec": {
      "display_name": "Python 3",
      "language": "python",
      "name": "python3"
    },
    "language_info": {
      "codemirror_mode": {
        "name": "ipython",
        "version": 3
      },
      "file_extension": ".py",
      "mimetype": "text/x-python",
      "name": "python",
      "nbconvert_exporter": "python",
      "pygments_lexer": "ipython3",
      "version": "3.8.5"
    },
    "colab": {
      "name": "Techlabs_AI_Exam_MicaelCunhaAlves.ipynb",
      "provenance": [],
      "collapsed_sections": []
    }
  },
  "cells": [
    {
      "cell_type": "markdown",
      "metadata": {
        "id": "snIRiUBqZzcF"
      },
      "source": [
        "<img src=\"TechLabs.png\">"
      ]
    },
    {
      "cell_type": "markdown",
      "metadata": {
        "id": "o1a0bGgQZzcI"
      },
      "source": [
        "<h2>Please enter your full name here: Micael Cunha Alves</h2> "
      ]
    },
    {
      "cell_type": "markdown",
      "metadata": {
        "id": "xg7aX6uDZzcK"
      },
      "source": [
        "\n",
        "<p> This exam will test your knowledge in Artificial Intelligence. </p>\n",
        "<p> We will test the following: </p>\n",
        "\n",
        "- Logistic Regressions\n",
        "- Neural Networks\n",
        "- Monte Carlo Simulation"
      ]
    },
    {
      "cell_type": "markdown",
      "metadata": {
        "id": "X1d1xgE0ZzcL"
      },
      "source": [
        "# Question 1:\n",
        "Below is the code to import a standard dataset with breast cancer.\n",
        "When you run the cell, you will have it stored as the object \"data\",\n",
        "and the description of the dataset is printed out for you.\n",
        "\n",
        "### Your task is to create two models for classifying the diagnosis, and compare the accuracy metrics for the two:\n",
        "### 1. a) Logistic Regression: \n",
        "\"sklearn.linear_model\" offers good logit classifiers. Because the dataset is fairly small (~500 rows), we suggest that you use the \"liblinear\" solver for fitting the logit classifier.\n",
        "\n",
        "Split the dataset into a test and training (30% test / 70% training) dataset and train the model on the training dataset. Then, classify the test dataset, and compute the accuracy, which you can print as an output.\n",
        "\n",
        "P.S.: We do not expect you to regularize for type 1 or type 2 errors. Your goal is to build models that classify well the diagnosis. Also, we do not expect you to spend hours on feature engineering and/or other things that may or may not improve testing accuracy. A good answer shall just contain a sensible model and the testing accuracy."
      ]
    },
    {
      "cell_type": "code",
      "metadata": {
        "colab": {
          "base_uri": "https://localhost:8080/"
        },
        "id": "A7OcZ0gIZzcM",
        "outputId": "6b45c46a-4204-4cb9-850d-4acb40502078"
      },
      "source": [
        "import numpy as np\n",
        "\n",
        "from sklearn import datasets\n",
        "data = datasets.load_breast_cancer()\n",
        "print(np.shape(data.data))"
      ],
      "execution_count": null,
      "outputs": [
        {
          "output_type": "stream",
          "text": [
            "(569, 30)\n"
          ],
          "name": "stdout"
        }
      ]
    },
    {
      "cell_type": "code",
      "metadata": {
        "id": "3zQt-0h2ZzcQ",
        "colab": {
          "base_uri": "https://localhost:8080/"
        },
        "outputId": "b04e381e-43d0-492f-c0f8-ee12bf0cc953"
      },
      "source": [
        "#Data train-test split\n",
        "from sklearn.model_selection import train_test_split\n",
        "x_train, x_test, y_train, y_test = train_test_split(data.data, data.target, test_size=0.3, random_state=0)\n",
        "\n",
        "#Data Standardization\n",
        "from sklearn.preprocessing import StandardScaler\n",
        "scaler = StandardScaler()\n",
        "scaler.fit(x_train)\n",
        "s_x_train = scaler.transform(x_train)\n",
        "s_x_test = scaler.transform(x_test)\n",
        "\n",
        "#Model fitting\n",
        "from sklearn.linear_model import LogisticRegression\n",
        "logisticRegr = LogisticRegression(solver='liblinear')\n",
        "\n",
        "logisticRegr.fit(s_x_train, y_train)\n",
        "\n",
        "#Metrics of the current model\n",
        "from sklearn import metrics\n",
        "predictions = logisticRegr.predict(s_x_test)\n",
        "#score = logisticRegr.score(s_x_test, y_test) alternative way to get the accuracy\n",
        "\n",
        "accuracy=metrics.accuracy_score(y_test,predictions)\n",
        "print(\"Accuracy: \",accuracy)\n",
        "\n",
        "cm = metrics.confusion_matrix(y_test, predictions)\n",
        "print(\"Confusion matrix :\", \"\\n\",cm)"
      ],
      "execution_count": null,
      "outputs": [
        {
          "output_type": "stream",
          "text": [
            "Accuracy:  0.9766081871345029\n",
            "Confusion matrix : \n",
            " [[ 60   3]\n",
            " [  1 107]]\n"
          ],
          "name": "stdout"
        }
      ]
    },
    {
      "cell_type": "code",
      "metadata": {
        "id": "Dk7IQKiiZzcZ"
      },
      "source": [
        "print(data.DESCR)"
      ],
      "execution_count": null,
      "outputs": []
    },
    {
      "cell_type": "markdown",
      "metadata": {
        "id": "zIAiPvxdZzca"
      },
      "source": [
        "# Print the logit accuracy below:"
      ]
    },
    {
      "cell_type": "code",
      "metadata": {
        "id": "PwMPcoCZZzca",
        "colab": {
          "base_uri": "https://localhost:8080/"
        },
        "outputId": "6a28089f-b5c3-43c3-abc3-9e707bd114cf"
      },
      "source": [
        "logitacc = \"0.9766081871345029\"\n",
        "print(f\"\\ntesting set accuracy with logit is: {logitacc}\")"
      ],
      "execution_count": null,
      "outputs": [
        {
          "output_type": "stream",
          "text": [
            "\n",
            "testing set accuracy with logit is: 0.9766081871345029\n"
          ],
          "name": "stdout"
        }
      ]
    },
    {
      "cell_type": "markdown",
      "metadata": {
        "id": "_SRidrusZzcb"
      },
      "source": [
        "### 1. b) Feedforward Neural Network:\n",
        "So far, so good. Let's see how a feedforward neural network does for the same task.\n",
        "\n",
        "Take the same train/test split as in a), and construct the following neural network, which you fit to the data:"
      ]
    },
    {
      "cell_type": "markdown",
      "metadata": {
        "id": "Rojk2g8ZZzcc"
      },
      "source": [
        "### You can use the library keras to contruct the ANN. Since we are dealing with a classification problem, we recommend binary_crossentropy as a loss function.\n",
        "Choose a reasonable batch size and epoch count and train the model.\n",
        "### Here again, print the testing dataset accuracy:"
      ]
    },
    {
      "cell_type": "code",
      "metadata": {
        "jupyter": {
          "source_hidden": true
        },
        "id": "ejf_hbvSZzcb",
        "colab": {
          "base_uri": "https://localhost:8080/"
        },
        "outputId": "583ae85d-de7a-4c3e-8573-ded6c3c3701e"
      },
      "source": [
        "import pickle\n",
        "pickle.loads(b'\\x80\\x03]q\\x00(X\\x15\\x00\\x00\\x00Model: \"sequential_2\"q\\x01XA\\x00\\x00\\x00_________________________________________________________________q\\x02XA\\x00\\x00\\x00Layer (type)                 Output Shape              Param #   q\\x03XA\\x00\\x00\\x00=================================================================q\\x04XA\\x00\\x00\\x00dense_5 (Dense)              (None, 30)                930       q\\x05XA\\x00\\x00\\x00_________________________________________________________________q\\x06XA\\x00\\x00\\x00dense_6 (Dense)              (None, 50)                1550      q\\x07XA\\x00\\x00\\x00_________________________________________________________________q\\x08XA\\x00\\x00\\x00dense_7 (Dense)              (None, 30)                1530      q\\tXA\\x00\\x00\\x00_________________________________________________________________q\\nXA\\x00\\x00\\x00dense_8 (Dense)              (None, 1)                 31        q\\x0bXA\\x00\\x00\\x00=================================================================q\\x0cX\\x13\\x00\\x00\\x00Total params: 4,041q\\rX\\x17\\x00\\x00\\x00Trainable params: 4,041q\\x0eX\\x17\\x00\\x00\\x00Non-trainable params: 0q\\x0fXA\\x00\\x00\\x00_________________________________________________________________q\\x10e.')"
      ],
      "execution_count": null,
      "outputs": [
        {
          "output_type": "execute_result",
          "data": {
            "text/plain": [
              "['Model: \"sequential_2\"',\n",
              " '_________________________________________________________________',\n",
              " 'Layer (type)                 Output Shape              Param #   ',\n",
              " '=================================================================',\n",
              " 'dense_5 (Dense)              (None, 30)                930       ',\n",
              " '_________________________________________________________________',\n",
              " 'dense_6 (Dense)              (None, 50)                1550      ',\n",
              " '_________________________________________________________________',\n",
              " 'dense_7 (Dense)              (None, 30)                1530      ',\n",
              " '_________________________________________________________________',\n",
              " 'dense_8 (Dense)              (None, 1)                 31        ',\n",
              " '=================================================================',\n",
              " 'Total params: 4,041',\n",
              " 'Trainable params: 4,041',\n",
              " 'Non-trainable params: 0',\n",
              " '_________________________________________________________________']"
            ]
          },
          "metadata": {
            "tags": []
          },
          "execution_count": 60
        }
      ]
    },
    {
      "cell_type": "code",
      "metadata": {
        "id": "p3PZ67pfZzcc"
      },
      "source": [
        "#Data train-test split\n",
        "from sklearn.model_selection import train_test_split\n",
        "x_train, x_test, y_train, y_test = train_test_split(data.data, data.target, test_size=0.3, random_state=0)\n",
        "\n",
        "#Data Standardization\n",
        "from sklearn.preprocessing import StandardScaler\n",
        "scaler = StandardScaler()\n",
        "scaler.fit(x_train)\n",
        "s_x_train = scaler.transform(x_train)\n",
        "s_x_test = scaler.transform(x_test)\n",
        "\n",
        "#Model Creation\n",
        "import tensorflow as tf\n",
        "from tensorflow.keras.models import Sequential\n",
        "from tensorflow.keras.layers import Dense\n",
        "\n",
        "model=Sequential()\n",
        "model.add(Dense(30,activation=\"sigmoid\"))\n",
        "model.add(Dense(50,activation=\"sigmoid\"))\n",
        "model.add(Dense(30,activation=\"sigmoid\"))\n",
        "model.add(Dense(1,activation=\"sigmoid\"))\n",
        "\n",
        "model.compile(optimizer=\"adam\",loss=\"binary_crossentropy\", metrics=['accuracy'])\n",
        "#sigmoid activation functions chosen for the three first layers as they demonstrated a better convergence in this situation than with relu activation functions\n",
        "#binary classification, thus, sigmoid function chosen for the final layer activation function"
      ],
      "execution_count": 135,
      "outputs": []
    },
    {
      "cell_type": "code",
      "metadata": {
        "colab": {
          "base_uri": "https://localhost:8080/"
        },
        "id": "S0X5a_RvbzRD",
        "outputId": "70d3a2aa-2a69-4d3b-f62d-4838dc7cfb5a"
      },
      "source": [
        "#Model Training\r\n",
        "history=model.fit(s_x_train, y_train, epochs=20, batch_size=10, validation_data=(s_x_test,y_test))"
      ],
      "execution_count": 136,
      "outputs": [
        {
          "output_type": "stream",
          "text": [
            "Epoch 1/20\n",
            "40/40 [==============================] - 1s 7ms/step - loss: 0.6770 - accuracy: 0.5530 - val_loss: 0.6347 - val_accuracy: 0.6316\n",
            "Epoch 2/20\n",
            "40/40 [==============================] - 0s 3ms/step - loss: 0.6312 - accuracy: 0.6070 - val_loss: 0.5527 - val_accuracy: 0.6316\n",
            "Epoch 3/20\n",
            "40/40 [==============================] - 0s 3ms/step - loss: 0.5186 - accuracy: 0.7148 - val_loss: 0.4156 - val_accuracy: 0.9357\n",
            "Epoch 4/20\n",
            "40/40 [==============================] - 0s 3ms/step - loss: 0.3697 - accuracy: 0.9320 - val_loss: 0.2758 - val_accuracy: 0.9240\n",
            "Epoch 5/20\n",
            "40/40 [==============================] - 0s 3ms/step - loss: 0.2233 - accuracy: 0.9542 - val_loss: 0.1947 - val_accuracy: 0.9415\n",
            "Epoch 6/20\n",
            "40/40 [==============================] - 0s 3ms/step - loss: 0.1568 - accuracy: 0.9654 - val_loss: 0.1513 - val_accuracy: 0.9415\n",
            "Epoch 7/20\n",
            "40/40 [==============================] - 0s 3ms/step - loss: 0.1145 - accuracy: 0.9765 - val_loss: 0.1226 - val_accuracy: 0.9766\n",
            "Epoch 8/20\n",
            "40/40 [==============================] - 0s 2ms/step - loss: 0.1365 - accuracy: 0.9741 - val_loss: 0.1038 - val_accuracy: 0.9708\n",
            "Epoch 9/20\n",
            "40/40 [==============================] - 0s 3ms/step - loss: 0.1030 - accuracy: 0.9822 - val_loss: 0.0913 - val_accuracy: 0.9708\n",
            "Epoch 10/20\n",
            "40/40 [==============================] - 0s 3ms/step - loss: 0.0971 - accuracy: 0.9827 - val_loss: 0.0858 - val_accuracy: 0.9766\n",
            "Epoch 11/20\n",
            "40/40 [==============================] - 0s 2ms/step - loss: 0.0761 - accuracy: 0.9906 - val_loss: 0.0797 - val_accuracy: 0.9766\n",
            "Epoch 12/20\n",
            "40/40 [==============================] - 0s 3ms/step - loss: 0.0702 - accuracy: 0.9862 - val_loss: 0.0773 - val_accuracy: 0.9825\n",
            "Epoch 13/20\n",
            "40/40 [==============================] - 0s 3ms/step - loss: 0.0752 - accuracy: 0.9866 - val_loss: 0.0757 - val_accuracy: 0.9825\n",
            "Epoch 14/20\n",
            "40/40 [==============================] - 0s 3ms/step - loss: 0.0563 - accuracy: 0.9914 - val_loss: 0.0756 - val_accuracy: 0.9825\n",
            "Epoch 15/20\n",
            "40/40 [==============================] - 0s 3ms/step - loss: 0.0565 - accuracy: 0.9908 - val_loss: 0.0730 - val_accuracy: 0.9825\n",
            "Epoch 16/20\n",
            "40/40 [==============================] - 0s 3ms/step - loss: 0.0428 - accuracy: 0.9913 - val_loss: 0.0731 - val_accuracy: 0.9825\n",
            "Epoch 17/20\n",
            "40/40 [==============================] - 0s 3ms/step - loss: 0.0803 - accuracy: 0.9834 - val_loss: 0.0737 - val_accuracy: 0.9825\n",
            "Epoch 18/20\n",
            "40/40 [==============================] - 0s 3ms/step - loss: 0.0661 - accuracy: 0.9871 - val_loss: 0.0733 - val_accuracy: 0.9825\n",
            "Epoch 19/20\n",
            "40/40 [==============================] - 0s 2ms/step - loss: 0.0640 - accuracy: 0.9875 - val_loss: 0.0727 - val_accuracy: 0.9825\n",
            "Epoch 20/20\n",
            "40/40 [==============================] - 0s 3ms/step - loss: 0.0381 - accuracy: 0.9938 - val_loss: 0.0727 - val_accuracy: 0.9825\n"
          ],
          "name": "stdout"
        }
      ]
    },
    {
      "cell_type": "code",
      "metadata": {
        "colab": {
          "base_uri": "https://localhost:8080/"
        },
        "id": "Bz7NVwhuaxun",
        "outputId": "535cf289-3e15-49d9-dc6d-fb26715355bd"
      },
      "source": [
        "model.summary()"
      ],
      "execution_count": null,
      "outputs": [
        {
          "output_type": "stream",
          "text": [
            "Model: \"sequential_1\"\n",
            "_________________________________________________________________\n",
            "Layer (type)                 Output Shape              Param #   \n",
            "=================================================================\n",
            "dense_4 (Dense)              (None, 30)                930       \n",
            "_________________________________________________________________\n",
            "dense_5 (Dense)              (None, 50)                1550      \n",
            "_________________________________________________________________\n",
            "dense_6 (Dense)              (None, 30)                1530      \n",
            "_________________________________________________________________\n",
            "dense_7 (Dense)              (None, 1)                 31        \n",
            "=================================================================\n",
            "Total params: 4,041\n",
            "Trainable params: 4,041\n",
            "Non-trainable params: 0\n",
            "_________________________________________________________________\n"
          ],
          "name": "stdout"
        }
      ]
    },
    {
      "cell_type": "code",
      "metadata": {
        "colab": {
          "base_uri": "https://localhost:8080/"
        },
        "id": "r3rZhmukbdob",
        "outputId": "d3a8517d-6e2f-4600-9134-8943e35cf876"
      },
      "source": [
        "model.evaluate(s_x_test,y_test)"
      ],
      "execution_count": 137,
      "outputs": [
        {
          "output_type": "stream",
          "text": [
            "6/6 [==============================] - 0s 2ms/step - loss: 0.0727 - accuracy: 0.9825\n"
          ],
          "name": "stdout"
        },
        {
          "output_type": "execute_result",
          "data": {
            "text/plain": [
              "[0.07271335273981094, 0.9824561476707458]"
            ]
          },
          "metadata": {
            "tags": []
          },
          "execution_count": 137
        }
      ]
    },
    {
      "cell_type": "code",
      "metadata": {
        "colab": {
          "base_uri": "https://localhost:8080/"
        },
        "id": "QNCHV854y6ob",
        "outputId": "6ae26596-44ee-430d-d201-56c9dbe385d0"
      },
      "source": [
        "from sklearn.metrics import classification_report,confusion_matrix\r\n",
        "ann_predictions=np.round(model.predict(s_x_test),decimals=0)\r\n",
        "ann_accuracy=metrics.accuracy_score(y_test,ann_predictions)\r\n",
        "print(\"Accuracy: \",ann_accuracy)\r\n",
        "print(\"ANN Confusion Matrix:\",\"\\n\",confusion_matrix(y_test,ann_predictions))"
      ],
      "execution_count": 138,
      "outputs": [
        {
          "output_type": "stream",
          "text": [
            "Accuracy:  0.9824561403508771\n",
            "ANN Confusion Matrix: \n",
            " [[ 61   2]\n",
            " [  1 107]]\n"
          ],
          "name": "stdout"
        }
      ]
    },
    {
      "cell_type": "code",
      "metadata": {
        "colab": {
          "base_uri": "https://localhost:8080/",
          "height": 295
        },
        "id": "CXbJ-X6u-4vQ",
        "outputId": "8d0aa23a-5b65-45d3-b80c-2ff7f6ca45a5"
      },
      "source": [
        "#Loss evolution of the training and test set\r\n",
        "import matplotlib.pyplot as plt\r\n",
        "plt.figure()\r\n",
        "plt.plot(history.history[\"loss\"])\r\n",
        "plt.plot(history.history[\"val_loss\"])\r\n",
        "plt.title('Model loss')\r\n",
        "plt.ylabel('Loss')\r\n",
        "plt.xlabel('Epoch')\r\n",
        "plt.legend(['Train', 'Test'], loc='upper right')\r\n",
        "plt.show()"
      ],
      "execution_count": 139,
      "outputs": [
        {
          "output_type": "display_data",
          "data": {
            "image/png": "[encoded data removed]",
            "text/plain": [
              "<Figure size 432x288 with 1 Axes>"
            ]
          },
          "metadata": {
            "tags": [],
            "needs_background": "light"
          }
        }
      ]
    },
    {
      "cell_type": "code",
      "metadata": {
        "colab": {
          "base_uri": "https://localhost:8080/",
          "height": 295
        },
        "id": "6Kz_AmvMB73h",
        "outputId": "ffc0afda-db14-4a7a-8641-1d7aa3311461"
      },
      "source": [
        "#Accuracy evolution of the training and test set\r\n",
        "import matplotlib.pyplot as plt\r\n",
        "plt.figure()\r\n",
        "plt.plot(history.history[\"accuracy\"])\r\n",
        "plt.plot(history.history[\"val_accuracy\"])\r\n",
        "plt.title('Model accuracy')\r\n",
        "plt.ylabel('Loss')\r\n",
        "plt.xlabel('Epoch')\r\n",
        "plt.legend(['Train', 'Test'], loc='lower right')\r\n",
        "plt.show()"
      ],
      "execution_count": 140,
      "outputs": [
        {
          "output_type": "display_data",
          "data": {
            "image/png": "[encoded data removed]",
            "text/plain": [
              "<Figure size 432x288 with 1 Axes>"
            ]
          },
          "metadata": {
            "tags": [],
            "needs_background": "light"
          }
        }
      ]
    },
    {
      "cell_type": "code",
      "metadata": {
        "id": "M21oi7NjZzcd",
        "outputId": "031aa90a-f8e1-4f66-cc27-c3caaf8f68cd"
      },
      "source": [
        "'''\n",
        "this looks like a nice cell to train models\n",
        "'''"
      ],
      "execution_count": null,
      "outputs": [
        {
          "output_type": "execute_result",
          "data": {
            "text/plain": [
              "'\\nthis looks like a nice cell to train models\\n'"
            ]
          },
          "metadata": {
            "tags": []
          },
          "execution_count": 37
        }
      ]
    },
    {
      "cell_type": "code",
      "metadata": {
        "id": "EiFZtyqqZzch",
        "colab": {
          "base_uri": "https://localhost:8080/"
        },
        "outputId": "988975d7-89cf-4510-c68e-9e38b298cedb"
      },
      "source": [
        "ANNacc = \"0.9824561403508771\"\n",
        "print(f\"\\ntesting set accuracy with neural network is: {ANNacc}\")"
      ],
      "execution_count": 142,
      "outputs": [
        {
          "output_type": "stream",
          "text": [
            "\n",
            "testing set accuracy with neural network is: 0.9824561403508771\n"
          ],
          "name": "stdout"
        }
      ]
    },
    {
      "cell_type": "markdown",
      "metadata": {
        "id": "p1vtVgnGZzci"
      },
      "source": [
        "### 1. c) Compare the performance of the neural net with the logit. Which one seems better at the job and why might that be?\n",
        "Please also comment on which model you would choose to implement in a case like this and why."
      ]
    },
    {
      "cell_type": "code",
      "metadata": {
        "id": "erEp518sZzci",
        "colab": {
          "base_uri": "https://localhost:8080/",
          "height": 229
        },
        "outputId": "df1f42b9-07fd-4f1c-88da-83aaf435c049"
      },
      "source": [
        "'''Tell us here how you would explain the differences in performance among the models: The performance difference between the two models is really small, only 0.59% (98.25% - 97.66% (NN - logistic regression)). The slighty superior performance of neural network model can be explained to the fact that a neural network can learn non-linear relation among variables, while the linear model only learns linear relations. However, the high performance of the linear model suggests that the relation between the presence of breast cancer and the other variables is mostly linear. The available data is quite small with only 569 units, from which only 398 were used for the training of the model. With a higher amount of data, the performance of the neural network could certainly be improved. Despite the slightly lower performance of the logistic regression, I would choose the logistic regression model due to the higher interpretability for a similar performance. However, if the neural network was to improve drastically with an increased amount of data, we should consider switch to the neural network but only at the condition that its performance is significantly better from the logistic regression model.'''"
      ],
      "execution_count": null,
      "outputs": [
        {
          "output_type": "execute_result",
          "data": {
            "application/vnd.google.colaboratory.intrinsic+json": {
              "type": "string"
            },
            "text/plain": [
              "'Tell us here how you would explain the differences in performance among the models: The performance difference between the two models is really small, only 0.59% (98.25% - 97.66% (NN - logistic regression)). The slighty superior performance of neural network model can be explained to the fact that a neural network can learn non-linear relation among variables, while the linear model only learns linear relations. However, the high performance of the linear model suggests that the relation between the presence of breast cancer and the other variables is mostly linear. The available data is quite small with only 569 units, from which only 398 were used for the training of the model. With a higher amount of data, the performance of the neural network could certainly be improved. Despite the slightly lower performance of the logistic regression, I would choose the logistic regression model due to the higher interpretability for a similar performance. However, if the neural network was to improve drastically with an increased amount of data, we should consider switch to the neural network but only at the condition that its performance is significantly better from the logistic regression model.'"
            ]
          },
          "metadata": {
            "tags": []
          },
          "execution_count": 70
        }
      ]
    },
    {
      "cell_type": "markdown",
      "metadata": {
        "id": "1nn4EasiZzcj"
      },
      "source": [
        "# Question 2:\n",
        "### Your coding skills have gained you a job as an options trader at a successful hedge fund! Congratulations!!\n",
        "\n",
        "At the first day, your boss comes to you and asks you, whether he should buy a _call option_* with a certain set of characteristics for 1€.\n",
        "\n",
        "    *A call option gives you the right (but not obligation) to buy a share for a certain strike price. In other words, if the stock price is higher than the strike price, you get the difference, otherwise, you get 0: \n",
        "    \n",
        "    callpayoff = max(stockprice - strikeprice, 0) \n",
        "\n",
        "To price the option, you shall build a monte-carlo simulator which generatates _1 000 000_ random walks, each representing the stock price in one year, which is when the option can be expired. By taking the average of these payouts, you will get the expected payout at expiry!\n",
        "\n",
        "Luckily, your boss has also given you the characteristics and hints for how the stock price moves: \n",
        "\n",
        "The stock price follows a student T distribution with 3 degrees of freedom (the rvs function within the t class from scipy.stats package is a great tool for creating random walks with this distribution: https://docs.scipy.org/doc/scipy/reference/generated/scipy.stats.t.html  ctrl+f \"rvs\") \n",
        "\n",
        "- The stock price today: 69\n",
        "- Stock returns follow student T distribution with 3 degrees of freedom\n",
        "- drift of 10% per year \n",
        "- volatility of 20%\n",
        "- strike price of the option is 96\n",
        "\n",
        "### Build a function that returns the price of the call option, and shows your boss what payout he can expect from the option in order to explain him, whether he should buy it or not.\n",
        "\n",
        "    P.S.: If you run into trouble on your way, you can always ask for tips from your boss and since he is a nice guy, he will also give a good grade for all attempts!"
      ]
    },
    {
      "cell_type": "code",
      "metadata": {
        "colab": {
          "base_uri": "https://localhost:8080/"
        },
        "id": "j6eZEtOgDWRw",
        "outputId": "e694e1b3-59a4-4dcb-c5ad-3bd6faa9a934"
      },
      "source": [
        "'''\r\n",
        "This is your boss' favourite cell for option pricing\r\n",
        "'''\r\n",
        "\r\n",
        "#First method: Return payout and benefit\r\n",
        "\r\n",
        "#Simulating 1 million yearly payouts by simulating 1 million yearly returns (preferred method).\r\n",
        "\r\n",
        "#VARIABLES\r\n",
        "#current_price: price at which the action is at the moment\r\n",
        "#mu: drift (expected return)\r\n",
        "#N:number of simulated final prices\r\n",
        "#volatility: past volatility of the price of the action\r\n",
        "#strikeprice: price at which the strike is\r\n",
        "\r\n",
        "def return_simulator(current_price=69, mu=0.1,volatility=0.2, strikeprice=96,N=1000000):\r\n",
        "  import numpy as np\r\n",
        "  from scipy.stats import t\r\n",
        "\r\n",
        "  returns = t.rvs(3, loc=mu, scale=volatility, size=N)+1 #simulating 1 million yearly returns\r\n",
        "  finalprice=current_price*returns\r\n",
        "  expectedpayout2=(np.sum(finalprice[finalprice>strikeprice]-strikeprice)/N)\r\n",
        "  expectedbenefits2=expectedpayout2-1\r\n",
        "  print(\"First method: \",\"\\n\",\"Expected payout: \",expectedpayout2,\"\\n\",\"Expected benefit: \",expectedbenefits2)\r\n",
        "\r\n",
        "return_simulator()"
      ],
      "execution_count": 141,
      "outputs": [
        {
          "output_type": "stream",
          "text": [
            "First method:  \n",
            " Expected payout:  2.0103492780739307 \n",
            " Expected benefit:  1.0103492780739307\n"
          ],
          "name": "stdout"
        }
      ]
    },
    {
      "cell_type": "code",
      "metadata": {
        "id": "M9Y5EgoteC1a"
      },
      "source": [
        "#Second method: Return payout and benefit\r\n",
        "#Simulating 1 million payouts by simulating the daily price evolution through the whole year\r\n",
        "#Issue: this method takes a long time to run with 1 million simulations.\r\n",
        "#My recommendation is to try it with a lower N (number of simulated final prices)\r\n",
        "\r\n",
        "\r\n",
        "#VARIABLES\r\n",
        "#current_price: price at which the action is at the moment\r\n",
        "#mu: drift (expected return)\r\n",
        "#N:number of simulated final prices\r\n",
        "#volatility: past volatility of the price of the action\r\n",
        "#strikeprice: price at which the strike is\r\n",
        "\r\n",
        "def return_simulator_2(current_price=69, mu=0.1,volatility=0.2, strikeprice=96,N=1000000):\r\n",
        "\r\n",
        "  import numpy as np\r\n",
        "  from scipy.stats import t\r\n",
        "  days = 251   # Stock markets are open 251 days per year\r\n",
        "  dt = 1/float(days)\r\n",
        "\r\n",
        "  def random_walk(startprice):\r\n",
        "    price = np.zeros(days)\r\n",
        "    shock = np.zeros(days)\r\n",
        "    price[0] = current_price\r\n",
        "    for i in range(1, days):\r\n",
        "        shock[i] = t.rvs(3, loc=mu * dt, scale=volatility * np.sqrt(dt))\r\n",
        "        price[i] = max(0, price[i-1] + shock[i] * price[i-1])\r\n",
        "    return price[days-1]\r\n",
        "\r\n",
        "  iterations=np.array([])\r\n",
        "  for run in range(N):\r\n",
        "      iterations = np.append(iterations, random_walk(current_price))\r\n",
        "      if run%100000==0:\r\n",
        "        print(\"Work in progress: \",run) \r\n",
        "\r\n",
        "  expectedpayout=(np.sum(iterations[iterations>strikeprice]-strikeprice)/N)\r\n",
        "  expectedbenefits=expectedpayout-1\r\n",
        "  print(\"\\n\",\"Second method: \",\"\\n\",\"Expected payout: \",expectedpayout,\"\\n\",\"Expected benefit: \",expectedbenefits) "
      ],
      "execution_count": null,
      "outputs": []
    },
    {
      "cell_type": "code",
      "metadata": {
        "colab": {
          "base_uri": "https://localhost:8080/"
        },
        "id": "0I2kpcVi2H0I",
        "outputId": "59b8b962-f1a6-4908-9801-a11a951c76b4"
      },
      "source": [
        "return_simulator_2()"
      ],
      "execution_count": 104,
      "outputs": [
        {
          "output_type": "stream",
          "text": [
            "Work in progress:  0\n",
            "Work in progress:  100000\n",
            "Work in progress:  200000\n",
            "Work in progress:  300000\n",
            "Work in progress:  400000\n",
            "Work in progress:  500000\n",
            "Work in progress:  600000\n",
            "Work in progress:  700000\n",
            "Work in progress:  800000\n",
            "Work in progress:  900000\n",
            "\n",
            " Second method:  \n",
            " Expected payout:  4.2719618081092054 \n",
            " Expected benefit:  3.2719618081092054\n"
          ],
          "name": "stdout"
        }
      ]
    },
    {
      "cell_type": "code",
      "metadata": {
        "id": "8uTAW6m-stwN"
      },
      "source": [
        "#Results obtained with the second method and N = 1'000'000\r\n",
        "#Second method:  \r\n",
        "# Expected payout:  4.2719618081092054 \r\n",
        "# Expected benefit:  3.2719618081092054"
      ],
      "execution_count": null,
      "outputs": []
    },
    {
      "cell_type": "markdown",
      "metadata": {
        "id": "p9eousasZzck"
      },
      "source": [
        "# Good luck!\n",
        "\n",
        "Don't forget: google, github and stack overflow are your best friends!\n"
      ]
    }
  ]
}